{
 "cells": [
  {
   "cell_type": "code",
   "execution_count": 14,
   "id": "e786e93f",
   "metadata": {},
   "outputs": [],
   "source": [
    "import numpy as np\n",
    "from sklearn.decomposition import PCA\n",
    "from sklearn.utils.extmath import randomized_svd\n",
    "from utils.typing import Tensor, N, D\n",
    "\n",
    "seed = 42\n",
    "np.random.seed(seed)"
   ]
  },
  {
   "cell_type": "code",
   "execution_count": 15,
   "id": "ce2efa55",
   "metadata": {},
   "outputs": [],
   "source": [
    "n_sample_types = 3\n",
    "d = 10\n",
    "n_components = 1\n",
    "\n",
    "data_types = np.random.rand(n_sample_types, d)\n",
    "sample_counts = np.random.randint(1, 10, size=n_sample_types)\n",
    "data_repeated = np.repeat(data_types, sample_counts, axis=0)"
   ]
  },
  {
   "cell_type": "code",
   "execution_count": 16,
   "id": "4979ffc5",
   "metadata": {},
   "outputs": [],
   "source": [
    "pca = PCA(n_components=n_components, svd_solver=\"randomized\", random_state=seed)\n",
    "pca = pca.fit(data_repeated)\n",
    "pca_transformed = pca.transform(data_types)"
   ]
  },
  {
   "cell_type": "code",
   "execution_count": 17,
   "id": "1faad2c6",
   "metadata": {},
   "outputs": [],
   "source": [
    "class WPCA:\n",
    "    def __init__(self, n_components=2):\n",
    "        self.n_components = n_components\n",
    "\n",
    "    def fit(self, X: Tensor[N, D], weights: Tensor[N]) -> None:\n",
    "        weights = weights / np.sum(weights)\n",
    "        self.mean_ = np.average(X, axis=0, weights=weights)\n",
    "        _, _, Vt = randomized_svd(\n",
    "            np.sqrt(weights)[:, np.newaxis] * (X - self.mean_),\n",
    "            n_components=self.n_components,\n",
    "            random_state=42\n",
    "        )\n",
    "\n",
    "        self.components_ = Vt[:self.n_components]\n",
    "        return self\n",
    "\n",
    "    def transform(self, X: Tensor[N, D]) -> Tensor[N, D]:\n",
    "        return (X - self.mean_) @ self.components_.T"
   ]
  },
  {
   "cell_type": "code",
   "execution_count": 18,
   "id": "3047c6ca",
   "metadata": {},
   "outputs": [
    {
     "name": "stdout",
     "output_type": "stream",
     "text": [
      "Flipping sign of component 0 to match PCA\n"
     ]
    }
   ],
   "source": [
    "weights = sample_counts / np.sum(sample_counts)\n",
    "wpca = WPCA(n_components=1)\n",
    "wpca.fit(data_types, weights)\n",
    "wpca_transformed = wpca.transform(data_types)\n",
    "\n",
    "\n",
    "# match positive and negative signs\n",
    "for i in range(n_components):\n",
    "    if pca_transformed[0, i] > 0 and wpca_transformed[0, i] < 0 or pca_transformed[0, i] < 0 and wpca_transformed[0, i] > 0:\n",
    "        print(f\"Flipping sign of component {i} to match PCA\")\n",
    "        wpca_transformed[:, i] *= -1"
   ]
  },
  {
   "cell_type": "code",
   "execution_count": 19,
   "id": "fe251f07",
   "metadata": {},
   "outputs": [
    {
     "data": {
      "text/plain": [
       "True"
      ]
     },
     "execution_count": 19,
     "metadata": {},
     "output_type": "execute_result"
    }
   ],
   "source": [
    "np.allclose(\n",
    "    pca_transformed,\n",
    "    wpca_transformed,\n",
    "    atol=1e-6\n",
    ")"
   ]
  }
 ],
 "metadata": {
  "kernelspec": {
   "display_name": "pca",
   "language": "python",
   "name": "python3"
  },
  "language_info": {
   "codemirror_mode": {
    "name": "ipython",
    "version": 3
   },
   "file_extension": ".py",
   "mimetype": "text/x-python",
   "name": "python",
   "nbconvert_exporter": "python",
   "pygments_lexer": "ipython3",
   "version": "3.13.2"
  }
 },
 "nbformat": 4,
 "nbformat_minor": 5
}
