{
 "cells": [
  {
   "cell_type": "code",
   "execution_count": 12,
   "id": "dd0df51e",
   "metadata": {},
   "outputs": [
    {
     "data": {
      "text/plain": [
       "<torch._C.Generator at 0x11b4c28d0>"
      ]
     },
     "execution_count": 12,
     "metadata": {},
     "output_type": "execute_result"
    }
   ],
   "source": [
    "import torch\n",
    "from sklearn.decomposition import PCA\n",
    "\n",
    "torch.manual_seed(42)"
   ]
  },
  {
   "cell_type": "code",
   "execution_count": 13,
   "id": "98f41709",
   "metadata": {},
   "outputs": [
    {
     "data": {
      "text/plain": [
       "torch.Size([1000, 10])"
      ]
     },
     "execution_count": 13,
     "metadata": {},
     "output_type": "execute_result"
    }
   ],
   "source": [
    "n_samples = 1000\n",
    "d = 10\n",
    "\n",
    "data = torch.rand(n_samples, d)\n",
    "data.shape"
   ]
  },
  {
   "cell_type": "code",
   "execution_count": 14,
   "id": "ce8f0473",
   "metadata": {},
   "outputs": [],
   "source": [
    "n_components = 2"
   ]
  },
  {
   "cell_type": "code",
   "execution_count": 15,
   "id": "c533621d",
   "metadata": {},
   "outputs": [],
   "source": [
    "u, s, vt = torch.linalg.svd((data - data.mean(dim=0)), full_matrices=False)\n",
    "w = vt.T[:, :n_components]  # First two columns of V\n",
    "torch_compressed = (data-data.mean(dim=0)) @ w"
   ]
  },
  {
   "cell_type": "code",
   "execution_count": 16,
   "id": "3e6f33b4",
   "metadata": {},
   "outputs": [],
   "source": [
    "pca = PCA(n_components=n_components)\n",
    "pca.fit(data)\n",
    "pca_compressed = pca.transform(data)\n"
   ]
  },
  {
   "cell_type": "code",
   "execution_count": 17,
   "id": "cf7c07f2",
   "metadata": {},
   "outputs": [
    {
     "name": "stdout",
     "output_type": "stream",
     "text": [
      "Flipping sign of component 0 to match PCA\n"
     ]
    }
   ],
   "source": [
    "# match positive and negative signs\n",
    "for i in range(n_components):\n",
    "    if torch_compressed[0, i] > 0 and pca_compressed[0, i] < 0 or torch_compressed[0, i] < 0 and pca_compressed[0, i] > 0:\n",
    "        print(f\"Flipping sign of component {i} to match PCA\")\n",
    "        pca_compressed[:, i] *= -1\n",
    "    \n"
   ]
  },
  {
   "cell_type": "code",
   "execution_count": 18,
   "id": "065e16b7",
   "metadata": {},
   "outputs": [
    {
     "data": {
      "text/plain": [
       "(True, 'PCA compression does not match torch SVD compression')"
      ]
     },
     "execution_count": 18,
     "metadata": {},
     "output_type": "execute_result"
    }
   ],
   "source": [
    "torch.allclose(\n",
    "    torch.tensor(pca_compressed, dtype=torch_compressed.dtype),\n",
    "    torch_compressed,\n",
    "    rtol=1e-5,\n",
    "    atol=1e-5\n",
    "), \"PCA compression does not match torch SVD compression\""
   ]
  },
  {
   "cell_type": "markdown",
   "id": "233b06dd",
   "metadata": {},
   "source": [
    "# Torch PCA Class\n"
   ]
  },
  {
   "cell_type": "code",
   "execution_count": 19,
   "id": "1489d646",
   "metadata": {},
   "outputs": [],
   "source": [
    "class TorchPCA:\n",
    "    def __init__(self, n_components=None):\n",
    "        self.n_components = n_components\n",
    "        self.components_ = None\n",
    "\n",
    "    def center_data(self, X):\n",
    "        return X - X.mean(dim=0)\n",
    "\n",
    "    def fit(self, X):\n",
    "        # Center the data\n",
    "        X_centered = self.center_data(X)\n",
    "\n",
    "        # Perform SVD\n",
    "        U, S, Vt = torch.linalg.svd(X_centered, full_matrices=False)\n",
    "\n",
    "        # Store components and explained variance\n",
    "        self.components_ = Vt[:self.n_components]\n",
    "        return self\n",
    "\n",
    "    def transform(self, X):\n",
    "        # Center the data\n",
    "        X_centered = self.center_data(X)\n",
    "\n",
    "        # Project onto the components\n",
    "        return X_centered @ self.components_.T\n",
    "\n"
   ]
  },
  {
   "cell_type": "code",
   "execution_count": null,
   "id": "93d6c51c",
   "metadata": {},
   "outputs": [
    {
     "name": "stdout",
     "output_type": "stream",
     "text": [
      "Flipping sign of component 0 to match PCA\n"
     ]
    }
   ],
   "source": [
    "torch_pca = TorchPCA(n_components=n_components)\n",
    "torch_pca.fit(data)\n",
    "torch_pca_compressed = torch_pca.transform(data)\n",
    "\n",
    "sklearn_pca = PCA(n_components=n_components)\n",
    "sklearn_pca.fit(data)\n",
    "sklearn_pca_compressed = sklearn_pca.transform(data)\n",
    "\n",
    "\n",
    "assert torch.allclose(\n",
    "    torch.tensor(sklearn_pca_compressed, dtype=torch_pca_compressed.dtype),\n",
    "    torch_pca_compressed,\n",
    "    rtol=1e-5,\n",
    "    atol=1e-4\n",
    "), \"Torch PCA compression does not match sklearn PCA compression\"\n"
   ]
  },
  {
   "cell_type": "code",
   "execution_count": 21,
   "id": "1a157f05",
   "metadata": {},
   "outputs": [
    {
     "name": "stdout",
     "output_type": "stream",
     "text": [
      "91.3 μs ± 321 ns per loop (mean ± std. dev. of 7 runs, 10,000 loops each)\n"
     ]
    }
   ],
   "source": [
    "%%timeit\n",
    "torch_pca = TorchPCA(n_components=n_components)\n",
    "torch_pca.fit(data)\n",
    "torch_pca.transform(data)"
   ]
  },
  {
   "cell_type": "code",
   "execution_count": 23,
   "id": "c1dc58e7",
   "metadata": {},
   "outputs": [
    {
     "name": "stdout",
     "output_type": "stream",
     "text": [
      "146 μs ± 1.24 μs per loop (mean ± std. dev. of 7 runs, 10,000 loops each)\n"
     ]
    }
   ],
   "source": [
    "%%timeit\n",
    "sklearn_pca = PCA(n_components=n_components)\n",
    "sklearn_pca.fit(data)\n",
    "sklearn_pca.transform(data)"
   ]
  },
  {
   "cell_type": "code",
   "execution_count": null,
   "id": "1cdf3837",
   "metadata": {},
   "outputs": [],
   "source": []
  }
 ],
 "metadata": {
  "kernelspec": {
   "display_name": "pca",
   "language": "python",
   "name": "python3"
  },
  "language_info": {
   "codemirror_mode": {
    "name": "ipython",
    "version": 3
   },
   "file_extension": ".py",
   "mimetype": "text/x-python",
   "name": "python",
   "nbconvert_exporter": "python",
   "pygments_lexer": "ipython3",
   "version": "3.13.2"
  }
 },
 "nbformat": 4,
 "nbformat_minor": 5
}
