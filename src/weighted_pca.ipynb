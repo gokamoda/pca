{
 "cells": [
  {
   "cell_type": "code",
   "execution_count": 8,
   "id": "e786e93f",
   "metadata": {},
   "outputs": [],
   "source": [
    "import numpy as np\n",
    "from sklearn.decomposition import PCA\n",
    "from utils.typing import Tensor, N, D\n",
    "\n",
    "seed = 42\n",
    "np.random.seed(seed)"
   ]
  },
  {
   "cell_type": "code",
   "execution_count": 9,
   "id": "ce2efa55",
   "metadata": {},
   "outputs": [],
   "source": [
    "n_sample_types = 3\n",
    "d = 3\n",
    "n_components = 1\n",
    "\n",
    "data_types = np.random.rand(n_sample_types, d)\n",
    "sample_counts = np.random.randint(1, 10, size=n_sample_types)"
   ]
  },
  {
   "cell_type": "code",
   "execution_count": 10,
   "id": "c7f55136",
   "metadata": {},
   "outputs": [
    {
     "data": {
      "text/plain": [
       "array([[0.37454012, 0.95071431, 0.73199394],\n",
       "       [0.59865848, 0.15601864, 0.15599452],\n",
       "       [0.05808361, 0.86617615, 0.60111501]])"
      ]
     },
     "execution_count": 10,
     "metadata": {},
     "output_type": "execute_result"
    }
   ],
   "source": [
    "data_types"
   ]
  },
  {
   "cell_type": "code",
   "execution_count": 11,
   "id": "f321f652",
   "metadata": {},
   "outputs": [
    {
     "data": {
      "text/plain": [
       "array([[0.37454012, 0.95071431, 0.73199394],\n",
       "       [0.37454012, 0.95071431, 0.73199394],\n",
       "       [0.37454012, 0.95071431, 0.73199394],\n",
       "       [0.37454012, 0.95071431, 0.73199394],\n",
       "       [0.37454012, 0.95071431, 0.73199394],\n",
       "       [0.37454012, 0.95071431, 0.73199394],\n",
       "       [0.37454012, 0.95071431, 0.73199394],\n",
       "       [0.37454012, 0.95071431, 0.73199394],\n",
       "       [0.59865848, 0.15601864, 0.15599452],\n",
       "       [0.59865848, 0.15601864, 0.15599452],\n",
       "       [0.59865848, 0.15601864, 0.15599452],\n",
       "       [0.05808361, 0.86617615, 0.60111501],\n",
       "       [0.05808361, 0.86617615, 0.60111501],\n",
       "       [0.05808361, 0.86617615, 0.60111501],\n",
       "       [0.05808361, 0.86617615, 0.60111501],\n",
       "       [0.05808361, 0.86617615, 0.60111501],\n",
       "       [0.05808361, 0.86617615, 0.60111501]])"
      ]
     },
     "execution_count": 11,
     "metadata": {},
     "output_type": "execute_result"
    }
   ],
   "source": [
    "data_repeated = np.repeat(data_types, sample_counts, axis=0)\n",
    "data_repeated"
   ]
  },
  {
   "cell_type": "code",
   "execution_count": 12,
   "id": "4979ffc5",
   "metadata": {},
   "outputs": [
    {
     "data": {
      "text/plain": [
       "array([[ 0.1838945 ],\n",
       "       [-0.81311361],\n",
       "       [ 0.16136415]])"
      ]
     },
     "execution_count": 12,
     "metadata": {},
     "output_type": "execute_result"
    }
   ],
   "source": [
    "pca = PCA(n_components=n_components, svd_solver=\"full\")\n",
    "pca = pca.fit(data_repeated)\n",
    "pca.transform(data_types)"
   ]
  },
  {
   "cell_type": "code",
   "execution_count": 13,
   "id": "1faad2c6",
   "metadata": {},
   "outputs": [],
   "source": [
    "class WPCA:\n",
    "    def __init__(self, n_components=2):\n",
    "        self.n_components = n_components\n",
    "\n",
    "    def fit(self, X: Tensor[N, D], weights: Tensor[N]) -> None:\n",
    "        weights = weights / np.sum(weights)\n",
    "        self.mean_ = np.average(X, axis=0, weights=weights)\n",
    "        _, _, Vt = np.linalg.svd(\n",
    "            np.sqrt(weights)[:, np.newaxis] * (X - self.mean_),\n",
    "            full_matrices=False\n",
    "        )\n",
    "        self.components_ = Vt[:self.n_components]\n",
    "        return self\n",
    "\n",
    "    def transform(self, X: Tensor[N, D]) -> Tensor[N, D]:\n",
    "        return (X - self.mean_) @ self.components_.T"
   ]
  },
  {
   "cell_type": "code",
   "execution_count": 14,
   "id": "3047c6ca",
   "metadata": {},
   "outputs": [
    {
     "data": {
      "text/plain": [
       "array([[ 0.1838945 ],\n",
       "       [-0.81311361],\n",
       "       [ 0.16136415]])"
      ]
     },
     "execution_count": 14,
     "metadata": {},
     "output_type": "execute_result"
    }
   ],
   "source": [
    "weights = sample_counts / np.sum(sample_counts)\n",
    "wpca = WPCA(n_components=1)\n",
    "wpca.fit(data_types, weights)\n",
    "wpca.transform(data_types)"
   ]
  },
  {
   "cell_type": "code",
   "execution_count": 15,
   "id": "fe251f07",
   "metadata": {},
   "outputs": [
    {
     "data": {
      "text/plain": [
       "True"
      ]
     },
     "execution_count": 15,
     "metadata": {},
     "output_type": "execute_result"
    }
   ],
   "source": [
    "np.allclose(\n",
    "    wpca.transform(data_types),\n",
    "    pca.transform(data_types),\n",
    "    atol=1e-6\n",
    ")"
   ]
  }
 ],
 "metadata": {
  "kernelspec": {
   "display_name": "pca",
   "language": "python",
   "name": "python3"
  },
  "language_info": {
   "codemirror_mode": {
    "name": "ipython",
    "version": 3
   },
   "file_extension": ".py",
   "mimetype": "text/x-python",
   "name": "python",
   "nbconvert_exporter": "python",
   "pygments_lexer": "ipython3",
   "version": "3.13.2"
  }
 },
 "nbformat": 4,
 "nbformat_minor": 5
}
