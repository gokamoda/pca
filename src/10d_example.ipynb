{
 "cells": [
  {
   "cell_type": "code",
   "execution_count": null,
   "id": "2df3a6a7",
   "metadata": {},
   "outputs": [],
   "source": [
    "import numpy as np\n",
    "from sklearn.decomposition import PCA\n",
    "\n",
    "seed = 42\n",
    "np.random.seed(seed)"
   ]
  },
  {
   "cell_type": "code",
   "execution_count": 14,
   "id": "c0bbeae8",
   "metadata": {},
   "outputs": [
    {
     "data": {
      "text/plain": [
       "(1000, 10)"
      ]
     },
     "execution_count": 14,
     "metadata": {},
     "output_type": "execute_result"
    }
   ],
   "source": [
    "n_samples = 1000\n",
    "d = 10\n",
    "n_components = 2\n",
    "\n",
    "data = np.random.rand(n_samples, d)\n",
    "data.shape"
   ]
  },
  {
   "cell_type": "code",
   "execution_count": 15,
   "id": "ccdf63aa",
   "metadata": {},
   "outputs": [
    {
     "data": {
      "text/plain": [
       "(1000, 2)"
      ]
     },
     "execution_count": 15,
     "metadata": {},
     "output_type": "execute_result"
    }
   ],
   "source": [
    "pca = PCA(n_components=n_components, svd_solver=\"full\")\n",
    "pca.fit(data)\n",
    "data_transformed = pca.transform(data)\n",
    "data_transformed.shape"
   ]
  },
  {
   "cell_type": "markdown",
   "id": "29c48d85",
   "metadata": {},
   "source": [
    "## Diving into the code"
   ]
  },
  {
   "cell_type": "markdown",
   "id": "d536d68a",
   "metadata": {},
   "source": [
    "`pca.components_`  $\\in \\mathbb{R}^{d' \\times d}$"
   ]
  },
  {
   "cell_type": "code",
   "execution_count": 16,
   "id": "a3b5a099",
   "metadata": {},
   "outputs": [
    {
     "data": {
      "text/plain": [
       "(2, 10)"
      ]
     },
     "execution_count": 16,
     "metadata": {},
     "output_type": "execute_result"
    }
   ],
   "source": [
    "pca.components_.shape"
   ]
  },
  {
   "cell_type": "markdown",
   "id": "b9bbb80d",
   "metadata": {},
   "source": [
    "thus $W = \\texttt{pca.components\\_}^T \\in \\mathbb{R}^{d \\times d'}$"
   ]
  },
  {
   "cell_type": "code",
   "execution_count": 17,
   "id": "76dc03c3",
   "metadata": {},
   "outputs": [
    {
     "data": {
      "text/plain": [
       "True"
      ]
     },
     "execution_count": 17,
     "metadata": {},
     "output_type": "execute_result"
    }
   ],
   "source": [
    "np.allclose((data - np.mean(data, axis=0)) @ pca.components_.T, data_transformed)"
   ]
  },
  {
   "cell_type": "markdown",
   "id": "2f3776cd",
   "metadata": {},
   "source": [
    "$W$ is the right singular vectors of the data matrix $X$."
   ]
  },
  {
   "cell_type": "code",
   "execution_count": 23,
   "id": "ae791c49",
   "metadata": {},
   "outputs": [
    {
     "data": {
      "text/plain": [
       "True"
      ]
     },
     "execution_count": 23,
     "metadata": {},
     "output_type": "execute_result"
    }
   ],
   "source": [
    "u, s, vt = np.linalg.svd((data - np.mean(data, axis=0)), full_matrices=False)\n",
    "np.allclose(\n",
    "    pca.components_.T,\n",
    "    vt.T[:, :n_components],  # First n_components columns of V\n",
    ")"
   ]
  }
 ],
 "metadata": {
  "kernelspec": {
   "display_name": "pca",
   "language": "python",
   "name": "python3"
  },
  "language_info": {
   "codemirror_mode": {
    "name": "ipython",
    "version": 3
   },
   "file_extension": ".py",
   "mimetype": "text/x-python",
   "name": "python",
   "nbconvert_exporter": "python",
   "pygments_lexer": "ipython3",
   "version": "3.13.2"
  }
 },
 "nbformat": 4,
 "nbformat_minor": 5
}
